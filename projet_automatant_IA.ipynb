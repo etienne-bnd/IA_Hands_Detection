{
  "cells": [
    {
      "cell_type": "markdown",
      "metadata": {
        "id": "view-in-github",
        "colab_type": "text"
      },
      "source": [
        "<a href=\"https://colab.research.google.com/github/etienne-bnd/IA_Hands_Detection/blob/main/projet_automatant_IA.ipynb\" target=\"_parent\"><img src=\"https://colab.research.google.com/assets/colab-badge.svg\" alt=\"Open In Colab\"/></a>"
      ]
    },
    {
      "cell_type": "markdown",
      "metadata": {
        "id": "Jq00MbALJ1yg"
      },
      "source": [
        "# presentation du projet\n",
        "# dataset:\n"
      ]
    },
    {
      "cell_type": "code",
      "execution_count": null,
      "metadata": {
        "id": "FyGvP3XLQTRo"
      },
      "outputs": [],
      "source": [
        "import tensorflow as tf\n",
        "import matplotlib.pyplot as plt\n",
        "import json\n",
        "import numpy as np"
      ]
    },
    {
      "cell_type": "code",
      "execution_count": null,
      "metadata": {
        "id": "_nJ9DRJyIMW1"
      },
      "outputs": [],
      "source": [
        "!wget https://lmb.informatik.uni-freiburg.de/data/freihand/FreiHAND_pub_v2.zip\n",
        "\n",
        "!unzip /content/FreiHAND_pub_v2.zip"
      ]
    },
    {
      "cell_type": "code",
      "execution_count": null,
      "metadata": {
        "id": "yyPs0vA1Ly7U"
      },
      "outputs": [],
      "source": [
        "data_train = \"./training/rgb/\"\n",
        "image_size = [128, 128]\n",
        "batch_size = 32"
      ]
    },
    {
      "cell_type": "markdown",
      "source": [
        "création du data_set avec les images"
      ],
      "metadata": {
        "id": "MnObpeFQwDwv"
      }
    },
    {
      "cell_type": "code",
      "execution_count": null,
      "metadata": {
        "id": "woPu2Hn3MZBk",
        "colab": {
          "base_uri": "https://localhost:8080/"
        },
        "outputId": "7bb6d114-9854-4787-8339-8a4093fe4b43"
      },
      "outputs": [
        {
          "output_type": "stream",
          "name": "stdout",
          "text": [
            "Found 130240 files belonging to 1 classes.\n"
          ]
        }
      ],
      "source": [
        "train_data_set =  tf.keras.utils.image_dataset_from_directory(data_train, label_mode=None, batch_size = batch_size, image_size = image_size, shuffle = False).map(lambda x : x/255)"
      ]
    },
    {
      "cell_type": "markdown",
      "metadata": {
        "id": "w5R7pIy5Q1VE"
      },
      "source": [
        "Affichage d'image du data set\n",
        "(pas nécessaire de la lancer à chaque fois)"
      ]
    },
    {
      "cell_type": "code",
      "execution_count": null,
      "metadata": {
        "id": "12wV-codQfLC"
      },
      "outputs": [],
      "source": [
        "plt.figure()\n",
        "for elem in train_data_set:\n",
        "  for i in range(16):\n",
        "    plt.subplot(4, 4, i + 1)\n",
        "    plt.imshow(elem[i])\n",
        "    plt.axis(\"off\")\n",
        "  break\n",
        "\n",
        "  plt.show()"
      ]
    },
    {
      "cell_type": "markdown",
      "source": [
        "on va créer le data set des labels\n",
        "on ouvre training xyz et training k qui sont les coordonnées de la main et les coordonnées de la caméra puis on va les convertir en objets tensor flow"
      ],
      "metadata": {
        "id": "SalCFD0fO2Gx"
      }
    },
    {
      "cell_type": "markdown",
      "source": [
        "ouvrir fichier json (regarder internet) ça sera une liste, l'afficher, puis convertir en tensor flow (regarder sur internet pour convertir)\n",
        "fichier json inspiré de j'écriture Java"
      ],
      "metadata": {
        "id": "N4bQ5nFgQGi7"
      }
    },
    {
      "cell_type": "code",
      "source": [
        "xyz_adresse = \"./training_xyz.json\""
      ],
      "metadata": {
        "id": "zjy6fQiSPq8d"
      },
      "execution_count": null,
      "outputs": []
    },
    {
      "cell_type": "code",
      "source": [
        "fichier_xyz = open(xyz_adresse, \"r\") # pour avoir l'adresse du fichier\n",
        "xyzjson = json.load(fichier_xyz) # pour ouvrir un fichier json\n",
        "xyz = tf.constant(xyzjson)\n",
        "# print(xyz)"
      ],
      "metadata": {
        "id": "QDVX6uCgQta_"
      },
      "execution_count": null,
      "outputs": []
    },
    {
      "cell_type": "code",
      "source": [
        "K_adresse = \"./training_K.json\" # c'est l'adresse des fichier de la caméra\n",
        "fichier_K = open(K_adresse, \"r\") # on ouvre le fichier\n",
        "Kjson = json.load(fichier_K)\n",
        "K = tf.constant(Kjson)\n",
        "#print(K)\n"
      ],
      "metadata": {
        "id": "iTXnBIRgTDN8"
      },
      "execution_count": null,
      "outputs": []
    },
    {
      "cell_type": "markdown",
      "source": [
        "on a les coordonnées des labels en 3dimensions mais nous ce qu'on veut c'est les coordonnées des labels en 2D puisque on a des images en 2D. Dans l'article ils donnent une formule qui fonctionne image par image nous on veut faire tout d'un coup en utilisant des outils tensorflow pour optimiser les calculs.\n",
        "la fonction:\n",
        "def projectPoints(xyz, K):\n",
        "  xyz = np.array(xyz)\n",
        "  K = np.array(K)\n",
        "  uv = np.matmul(K, xyz.T).T\n",
        "  return uv[:, :2]/uv[:, -1:]\n"
      ],
      "metadata": {
        "id": "Gde-ldsFU69s"
      }
    },
    {
      "cell_type": "code",
      "source": [
        "xyz_t = tf.transpose(xyz, perm = [0, 2, 1])\n",
        "uv = tf.transpose(tf.matmul(K, xyz_t), perm = [0, 2, 1])\n",
        "label = uv[:, :, :2]/uv[:, :, -1:] # formule donnée dans l'article qui permet de passer les coordonnées de 3D à 2D\n",
        "label = label*128/224 # on remet à la bonne taille les labels\n",
        "#print(label)"
      ],
      "metadata": {
        "id": "WI76sUBcVQkh"
      },
      "execution_count": null,
      "outputs": []
    },
    {
      "cell_type": "markdown",
      "source": [
        "on a donc converti les labels en 2D pour les mettre sur des images, comme le dataset répète 4 fois les mêmes images simplement en changeant le fond, il faut qu'on répète les éléments de uv 4 fois pour avoir le dataset final des labels.\n"
      ],
      "metadata": {
        "id": "al0dsoyPaBuG"
      }
    },
    {
      "cell_type": "code",
      "source": [
        "tensorlabel = tf.concat([label]*4, axis = 0)\n",
        "#print(tensorlabel)"
      ],
      "metadata": {
        "id": "cyxcQ_ASaQgp"
      },
      "execution_count": null,
      "outputs": []
    },
    {
      "cell_type": "markdown",
      "source": [
        "on obtient bien la taille voulue pour le tensor. il faut maintenant en faire un dataset.\n",
        "On remet des batchs de la même taille que pour les images car on va tout traiter ensemble. on reprend la variable batch_size\n",
        "drop_remainder = True sert à spécifier que si à la fin il reste des images dont le nombre ne fait pas  un batch on l'empêche d'en faire un plus petit car ça peut créer des erreurs. Le format des labels c'est qu'on a les coordonnées des différents labels pour une image. Il faut que l'on trouve un moyen de les afficher sur une figure."
      ],
      "metadata": {
        "id": "_MAMl_aPbNJE"
      }
    },
    {
      "cell_type": "code",
      "source": [
        "dataset_label = tf.data.Dataset.from_tensor_slices(tensorlabel).batch(batch_size, drop_remainder=True)\n",
        "# print(dataset_label)\n",
        "dataset_final = zip(train_data_set, dataset_label) #zip est une fonction interne qui prend deux ou plusieurs séquences et retourne une liste de tuples où chaque tuple contient un élément de chaque séquence"
      ],
      "metadata": {
        "id": "p4donaCfbdXF"
      },
      "execution_count": null,
      "outputs": []
    },
    {
      "cell_type": "markdown",
      "source": [
        "essai pour plot les labels mais qui n'a pas fonctionné très bien"
      ],
      "metadata": {
        "id": "QzbooEzHp9CQ"
      }
    },
    {
      "cell_type": "code",
      "source": [
        "plt.figure() # pour pouvoir afficher une image\n",
        "for elem in dataset_label:\n",
        "  for i in range(16): # on parcours un batch\n",
        "    plt.subplot(4, 4, i + 1)\n",
        "    for diff_label in range(21):\n",
        "     # print(elem[i][diff_label][0], elem[i][diff_label][1]) cette ligne était là pour débuger\n",
        "      plt.plot(elem[i][diff_label][0], elem[i][diff_label][1]) # on regarde les coordonnées des labels et on les affiche\n",
        "    plt.axis(\"off\")\n",
        "  break\n",
        "plt.show()"
      ],
      "metadata": {
        "id": "tKD8ODHNopyY"
      },
      "execution_count": null,
      "outputs": []
    },
    {
      "cell_type": "markdown",
      "metadata": {
        "id": "rDnaj93SV3VY"
      },
      "source": [
        "\n",
        "\n",
        "---il faut afficher les labels?\n",
        "\n",
        "\n"
      ]
    },
    {
      "cell_type": "markdown",
      "source": [],
      "metadata": {
        "id": "bQzpCPUlqzVU"
      }
    },
    {
      "cell_type": "code",
      "source": [
        "def plot_label(image, label):\n",
        "    \"\"\"\n",
        "    Affiche une image avec les articulations représentées pour former les doigts.\n",
        "    \"\"\"\n",
        "    # plt.grid(False)\n",
        "    plt.imshow(image)\n",
        "    color = [\"b\", \"g\", \"r\", \"c\", \"m\"]\n",
        "    X = label[0].tolist()\n",
        "    Y = label[1].tolist()\n",
        "    for i in range(5):\n",
        "        x = [X[0]] + X[4*i+1: 4*i+5]\n",
        "        y = [Y[0]] + Y[4*i+1: 4*i+5]\n",
        "        plt.plot(x,y, color[i])\n",
        "        # plt.axis(False)\n",
        "plot_label()\n",
        "plt.show() # il reste à finir la partie affichage"
      ],
      "metadata": {
        "colab": {
          "base_uri": "https://localhost:8080/",
          "height": 224
        },
        "id": "7ojf2anOszmk",
        "outputId": "1cf34f7c-080a-4a00-a018-e60fa554f85a"
      },
      "execution_count": null,
      "outputs": [
        {
          "output_type": "error",
          "ename": "TypeError",
          "evalue": "ignored",
          "traceback": [
            "\u001b[0;31m---------------------------------------------------------------------------\u001b[0m",
            "\u001b[0;31mTypeError\u001b[0m                                 Traceback (most recent call last)",
            "\u001b[0;32m<ipython-input-36-321f3c8ff2f3>\u001b[0m in \u001b[0;36m<module>\u001b[0;34m\u001b[0m\n\u001b[1;32m     13\u001b[0m         \u001b[0mplt\u001b[0m\u001b[0;34m.\u001b[0m\u001b[0mplot\u001b[0m\u001b[0;34m(\u001b[0m\u001b[0mx\u001b[0m\u001b[0;34m,\u001b[0m\u001b[0my\u001b[0m\u001b[0;34m,\u001b[0m \u001b[0mcolor\u001b[0m\u001b[0;34m[\u001b[0m\u001b[0mi\u001b[0m\u001b[0;34m]\u001b[0m\u001b[0;34m)\u001b[0m\u001b[0;34m\u001b[0m\u001b[0;34m\u001b[0m\u001b[0m\n\u001b[1;32m     14\u001b[0m         \u001b[0;31m# plt.axis(False)\u001b[0m\u001b[0;34m\u001b[0m\u001b[0;34m\u001b[0m\u001b[0;34m\u001b[0m\u001b[0m\n\u001b[0;32m---> 15\u001b[0;31m \u001b[0mplot_label\u001b[0m\u001b[0;34m(\u001b[0m\u001b[0;34m)\u001b[0m\u001b[0;34m\u001b[0m\u001b[0;34m\u001b[0m\u001b[0m\n\u001b[0m\u001b[1;32m     16\u001b[0m \u001b[0mplt\u001b[0m\u001b[0;34m.\u001b[0m\u001b[0mshow\u001b[0m\u001b[0;34m(\u001b[0m\u001b[0;34m)\u001b[0m \u001b[0;31m# il reste à finir la partie affichage\u001b[0m\u001b[0;34m\u001b[0m\u001b[0;34m\u001b[0m\u001b[0m\n",
            "\u001b[0;31mTypeError\u001b[0m: plot_label() missing 2 required positional arguments: 'image' and 'label'"
          ]
        }
      ]
    },
    {
      "cell_type": "markdown",
      "source": [
        "La fonction que thibault m'a envoyé qui fonctionne correctement"
      ],
      "metadata": {
        "id": "VcvyGCUVqC_v"
      }
    },
    {
      "cell_type": "markdown",
      "source": [
        "**séance 3**\n",
        "\n",
        "On va essayer de passer les labels qui sont en 2D (coordonnées (x, y) en layer tableau de 128 * 128 qui est la densité de probabilité du point. On va mettre un 1 à l'endroit exact du point et puis on va flouter ça.\n",
        "on va globalement utiliser la fonction: sparse.SparseTensor"
      ],
      "metadata": {
        "id": "lSVfWSmzmL_F"
      }
    },
    {
      "cell_type": "code",
      "source": [
        "def label_a_layer(label):\n",
        "  \"\"\" prend en entrée un label sous la forme d'un tupple de coordonnées (x,y) déjà compris entre 128*128 et renvoie un tableau\n",
        "  \"\"\"\n",
        "  return tf.spare.SpareTensor(indice = [label[0], label[1]], values = [1], dense_shape = [128, 128])"
      ],
      "metadata": {
        "id": "cOdRiSroyRFd"
      },
      "execution_count": null,
      "outputs": []
    },
    {
      "cell_type": "markdown",
      "source": [
        "mais nous on veut réaliser cette fonction pour tout le dataset d'un seul coup donc en prenant en compte les dimensions des batchs ect.. cette fonction sert juste à comprendre comment fonction la fonction SpareTensor"
      ],
      "metadata": {
        "id": "gfLKVlQ-zPyQ"
      }
    },
    {
      "cell_type": "code",
      "source": [
        "def create_label_layers(label):\n",
        "  \"\"\"\n",
        "  Créer les 21 couches des labels à partir des coordonnées\n",
        "  Création tenseur avec des 1 aux coordonnées\n",
        "  \"\"\"\n",
        "  label = tf.cast(label, dtype = tf.int64) #On change le type du tenseur de float à int\n",
        "  label = tf.clip_by_value(label, 0, 127) #On écrete les valeurs extrèmes\n",
        "  batch_lvl = tf.concat([tf.ones(21, dtype=tf.int64)*i for i in range(batch_size)], axis=0)\n",
        "  point_lvl = tf.concat([tf.range(21, dtype=tf.int64)]*batch_size, axis=0)\n",
        "  coordinates2 = tf.cast(label[:, :, 0], dtype=tf.int64) #On récupère les X\n",
        "  coordinates1 = tf.cast(label[:, :, 1], dtype=tf.int64) #On récupère les Y\n",
        "  indices = tf.stack([batch_lvl, tf.reshape(coordinates1, (batch_size*21,)),\n",
        "                      tf.reshape(coordinates2, (batch_size*21,)), point_lvl], axis=-1)\n",
        "\n",
        "  #Création d'un objet avec des 1 aux coordonnées des labels\n",
        "  sparse_label = tf.sparse.SparseTensor(indices=indices, values=tf.ones(indices.shape[0]), dense_shape=(batch_size, 128, 128, 21))\n",
        "  x = tf.sparse.reorder(sparse_label) #on réordonne les dimension pour le bon fonctionnement de l'opération\n",
        "  not_sparse = tf.sparse.to_dense(x, validate_indices=False) #Conversion en tenseur\n",
        "  return not_sparse\n",
        "\n",
        "def gaussian_blur(img, kernel_size=11, sigma=3):\n",
        "  \"\"\"\n",
        "  Applique un flou gaussien à une image\n",
        "  \"\"\"\n",
        "  def gauss_kernel(channels, kernel_size, sigma):\n",
        "      ax = tf.range(-kernel_size // 2 + 1.0, kernel_size // 2 + 1.0)\n",
        "      xx, yy = tf.meshgrid(ax, ax)\n",
        "      kernel = tf.exp(-(xx**2 + yy**2) / (2.0 * sigma ** 2))\n",
        "      kernel = kernel / tf.reduce_sum(kernel)\n",
        "      kernel = tf.tile(kernel[..., tf.newaxis], [1, 1, channels]) #On ajoute les autres couleurs\n",
        "      return kernel\n",
        "\n",
        "  gaussian_kernel = gauss_kernel(tf.shape(img)[-1], kernel_size, sigma)\n",
        "  gaussian_kernel = gaussian_kernel[..., tf.newaxis]\n",
        "\n",
        "  return tf.nn.depthwise_conv2d(img, gaussian_kernel, [1, 1, 1, 1], padding='SAME', data_format='NHWC')"
      ],
      "metadata": {
        "id": "JSHjbFgizbwX"
      },
      "execution_count": null,
      "outputs": []
    },
    {
      "cell_type": "markdown",
      "source": [
        "on va maintenant appliqué au dataset des labels la fonction qui nous les mets en bloc 'en récupérant les coordonnées et  puis le flou gaussien"
      ],
      "metadata": {
        "id": "zHQYIuVuru0c"
      }
    },
    {
      "cell_type": "code",
      "source": [
        "def create_label(label): # cette fonction s'applique à un batch à la fois\n",
        "  element = create_label_layers(label)\n",
        "  return gaussian_blur(element, kernel_size=11, sigma=3)\n",
        "\n",
        "\n",
        "def create_dataset():\n",
        " data_set_image = train_data_set # on créer d'abord le dataset des images ou on appelle celui qu'on a déjà créer\n",
        " data_set_label = dataset_label.map(create_label) # on créer le dataset des labels en appliquant les layers et le flou gaussien à un batch à la fois grâce à la fonction map\n",
        " return tf.data.Dataset.zip((data_set_image, data_set_label))# puis on zip les deux comme on avait fait avant (qui servait avt juste pour avoir des résultats visuels)\n",
        "\n",
        "\n",
        "dataset_final = create_dataset()\n",
        "\n",
        "\n",
        "## écriture d'un test pour afficher les éléments du dataset final\n",
        "print(dataset_final)\n",
        "\n",
        "\n",
        "j = 1\n",
        "for elem in dataset_final: # on parcours les batchs du dataset\n",
        "\n",
        "  for i in range(8): # on parcours les élements des batchs\n",
        "    ax = plt.subplot(4, 4, 2*i + 1) # on divise en subplot\n",
        "    plt.imshow(elem[0][i]) # 0 permet de rentrer dans le dataset des images\n",
        "    plt.axis(\"off\")\n",
        "    ax = plt.subplot(4, 4, 2*i + 2) # on change sur le subplot juste à côté\n",
        "    plt.imshow(tf.reduce_sum(elem[1][i], axis = -1)) # la fonction reduce permet de mettre les labels sur la même coordonnées en 2D (on n'applique pas comme avant parce que ici on a apppliqué le flou gaussien)\n",
        "    plt.axis(\"off\")\n",
        "  break\n",
        "plt.show()\n",
        "\n",
        "\n",
        "\n"
      ],
      "metadata": {
        "colab": {
          "base_uri": "https://localhost:8080/",
          "height": 266
        },
        "id": "LSmgf0_8sde5",
        "outputId": "e94f5713-af60-44f7-88cd-6c0044934241"
      },
      "execution_count": null,
      "outputs": [
        {
          "output_type": "stream",
          "name": "stdout",
          "text": [
            "<ZipDataset element_spec=(TensorSpec(shape=(None, 128, 128, 3), dtype=tf.float32, name=None), TensorSpec(shape=(32, 128, 128, 21), dtype=tf.float32, name=None))>\n"
          ]
        },
        {
          "output_type": "display_data",
          "data": {
            "text/plain": [
              "<Figure size 432x288 with 16 Axes>"
            ],
            "image/png": "[encoded data removed]"
          },
          "metadata": {
            "needs_background": "light"
          }
        }
      ]
    },
    {
      "cell_type": "markdown",
      "source": [
        "nouvelle fonction utilitaire donnée par thibault"
      ],
      "metadata": {
        "id": "tNFYlvsg5HT8"
      }
    },
    {
      "cell_type": "code",
      "source": [
        "\n",
        "def layers_to_coord(layers):\n",
        "    \"\"\"\n",
        "    Convertie les layers en coordonnées.\n",
        "    \"\"\"\n",
        "    try:\n",
        "        layers = layers.numpy()\n",
        "    except:\n",
        "        None\n",
        "\n",
        "    if len(layers.shape) == 3:\n",
        "        Y_conv = np.array([[[i]*21]*128 for i in range(128)])\n",
        "        X_conv = np.array([[[i]*21 for i in range(128)]]*128)\n",
        "        for i in range(21):\n",
        "            layers[:, :, i] /= np.sum(layers[:, :, i])\n",
        "        x = np.sum(layers * X_conv, axis = (0,1))\n",
        "        y = np.sum(layers * Y_conv, axis = (0,1))\n",
        "\n",
        "    else:\n",
        "        Y_conv = np.array([[[[i]*21]*128 for i in range(128)]]*len(layers))\n",
        "        X_conv = np.array([[[[i]*21 for i in range(128)]]*128]*len(layers))\n",
        "        for i in range(len(layers)):\n",
        "            for j in range(21):\n",
        "                layers[i, :, :, j] /= np.sum(layers[i, :, :, j])\n",
        "        x = np.sum(layers * X_conv, axis = (1,2))\n",
        "        y = np.sum(layers * Y_conv, axis = (1,2))\n",
        "\n",
        "    return np.array([x, y])\n",
        "\n"
      ],
      "metadata": {
        "id": "2PoOI-uj5M9r"
      },
      "execution_count": null,
      "outputs": []
    }
  ],
  "metadata": {
    "accelerator": "GPU",
    "colab": {
      "provenance": [],
      "authorship_tag": "ABX9TyNXe/DwYyD2+i7FUjquYp5T",
      "include_colab_link": true
    },
    "kernelspec": {
      "display_name": "Python 3",
      "name": "python3"
    },
    "language_info": {
      "name": "python"
    }
  },
  "nbformat": 4,
  "nbformat_minor": 0
}